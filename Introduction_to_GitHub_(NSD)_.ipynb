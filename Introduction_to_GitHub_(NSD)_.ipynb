{
  "nbformat": 4,
  "nbformat_minor": 0,
  "metadata": {
    "colab": {
      "provenance": [],
      "authorship_tag": "ABX9TyPUuSWS+p4KgIiBk0kiFZFf",
      "include_colab_link": true
    },
    "kernelspec": {
      "name": "python3",
      "display_name": "Python 3"
    },
    "language_info": {
      "name": "python"
    }
  },
  "cells": [
    {
      "cell_type": "markdown",
      "metadata": {
        "id": "view-in-github",
        "colab_type": "text"
      },
      "source": [
        "<a href=\"https://colab.research.google.com/github/koust-23-ubha/sdc_project/blob/main/Introduction_to_GitHub_(NSD)_.ipynb\" target=\"_parent\"><img src=\"https://colab.research.google.com/assets/colab-badge.svg\" alt=\"Open In Colab\"/></a>"
      ]
    },
    {
      "cell_type": "markdown",
      "source": [
        "GitHub: GitHub is a well-based platform for version control and collaboration.\n",
        "*   Built on top of Git,a distributed version control system.\n",
        "*   Allows multiple developers\n",
        "\n"
      ],
      "metadata": {
        "id": "PPoJugW_8S08"
      }
    },
    {
      "cell_type": "code",
      "execution_count": null,
      "metadata": {
        "id": "gGHngqKC8F5b"
      },
      "outputs": [],
      "source": []
    }
  ]
}